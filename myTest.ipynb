{
  "nbformat": 4,
  "nbformat_minor": 0,
  "metadata": {
    "colab": {
      "name": "myTest.ipynb",
      "provenance": [],
      "authorship_tag": "ABX9TyOQarC8EoSrjQaZ2Nd2s68g",
      "include_colab_link": true
    },
    "kernelspec": {
      "name": "python3",
      "display_name": "Python 3"
    }
  },
  "cells": [
    {
      "cell_type": "markdown",
      "metadata": {
        "id": "view-in-github",
        "colab_type": "text"
      },
      "source": [
        "<a href=\"https://colab.research.google.com/github/marcinwolter/myTestRepo/blob/main/myTest.ipynb\" target=\"_parent\"><img src=\"https://colab.research.google.com/assets/colab-badge.svg\" alt=\"Open In Colab\"/></a>"
      ]
    },
    {
      "cell_type": "markdown",
      "metadata": {
        "id": "ZKGmQ4XMsFK9"
      },
      "source": [
        "To jest mój program"
      ]
    },
    {
      "cell_type": "code",
      "metadata": {
        "id": "qZKfiuMtsDwB",
        "outputId": "5da236b5-9c54-48f4-8ab5-2fedff7b7b42",
        "colab": {
          "base_uri": "https://localhost:8080/"
        }
      },
      "source": [
        "print(\"Hello World!!!!\")"
      ],
      "execution_count": 1,
      "outputs": [
        {
          "output_type": "stream",
          "text": [
            "Hello World!!!!\n"
          ],
          "name": "stdout"
        }
      ]
    },
    {
      "cell_type": "code",
      "metadata": {
        "id": "p8boFoMDsr7J",
        "outputId": "4cd2e1e6-5c40-466e-f29f-0b464d275052",
        "colab": {
          "base_uri": "https://localhost:8080/"
        }
      },
      "source": [
        "for i in range(20):\n",
        "  print(\"i = \",i)"
      ],
      "execution_count": 2,
      "outputs": [
        {
          "output_type": "stream",
          "text": [
            "i =  0\n",
            "i =  1\n",
            "i =  2\n",
            "i =  3\n",
            "i =  4\n",
            "i =  5\n",
            "i =  6\n",
            "i =  7\n",
            "i =  8\n",
            "i =  9\n",
            "i =  10\n",
            "i =  11\n",
            "i =  12\n",
            "i =  13\n",
            "i =  14\n",
            "i =  15\n",
            "i =  16\n",
            "i =  17\n",
            "i =  18\n",
            "i =  19\n"
          ],
          "name": "stdout"
        }
      ]
    },
    {
      "cell_type": "markdown",
      "metadata": {
        "id": "PBTZp1-ksrSb"
      },
      "source": [
        ""
      ]
    }
  ]
}